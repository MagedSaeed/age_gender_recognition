{
 "cells": [
  {
   "cell_type": "markdown",
   "metadata": {},
   "source": [
    "# Resources"
   ]
  },
  {
   "cell_type": "markdown",
   "metadata": {},
   "source": [
    "This notebook page is based on many resources. Here is the list of the main of them:\n",
    "\n",
    "- [opencv toturial playlist by sentdex](https://www.youtube.com/watch?v=Jvf5y21ZqtQ&list=PLQVvvaa0QuDdttJXlLtAJxJetJcqmqlQq&index=2)\n",
    "- [opencv documentation](https://docs.opencv.org/2.4/modules/contrib/doc/facerec/facerec_tutorial.html#face-database)\n",
    "- [Image Search Blog](https://www.pyimagesearch.com/2014/11/03/display-matplotlib-rgb-image/)\n",
    "\n",
    "This includes:\n",
    "- [opencv Basic Operations on Images](https://docs.opencv.org/3.1.0/d3/df2/tutorial_py_basic_ops.html)\n",
    "- [Geometric Transformations of Images](https://docs.opencv.org/3.0-beta/doc/py_tutorials/py_imgproc/py_geometric_transformations/py_geometric_transformations.html)\n",
    "- [Image Thresholding](https://docs.opencv.org/3.3.0/d7/d4d/tutorial_py_thresholding.html)\n",
    "- [Basic Thresholding Operations](https://docs.opencv.org/2.4/doc/tutorials/imgproc/threshold/threshold.html)\n",
    "- [OpenCV Image Thresholding](https://docs.opencv.org/3.3.0/d7/d4d/tutorial_py_thresholding.html)\n",
    "- [Image Masking](http://opencv-python-tutroals.readthedocs.io/en/latest/py_tutorials/py_core/py_image_arithmetics/py_image_arithmetics.html)\n",
    "- [Color Filtering](https://docs.opencv.org/3.2.0/df/d9d/tutorial_py_colorspaces.html)\n"
   ]
  },
  {
   "cell_type": "markdown",
   "metadata": {},
   "source": []
  }
 ],
 "metadata": {
  "kernelspec": {
   "display_name": "Python 3",
   "language": "python",
   "name": "python3"
  },
  "language_info": {
   "codemirror_mode": {
    "name": "ipython",
    "version": 3
   },
   "file_extension": ".py",
   "mimetype": "text/x-python",
   "name": "python",
   "nbconvert_exporter": "python",
   "pygments_lexer": "ipython3",
   "version": "3.6.4"
  },
  "toc": {
   "nav_menu": {},
   "number_sections": true,
   "sideBar": true,
   "skip_h1_title": false,
   "title_cell": "Table of Contents",
   "title_sidebar": "Contents",
   "toc_cell": false,
   "toc_position": {},
   "toc_section_display": true,
   "toc_window_display": false
  }
 },
 "nbformat": 4,
 "nbformat_minor": 2
}
