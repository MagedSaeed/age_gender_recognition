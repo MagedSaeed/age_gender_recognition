{
 "cells": [
  {
   "cell_type": "markdown",
   "metadata": {},
   "source": [
    "# 1. Preparation for openCV"
   ]
  },
  {
   "cell_type": "markdown",
   "metadata": {},
   "source": [
    "## 1.0 Resources:"
   ]
  },
  {
   "cell_type": "markdown",
   "metadata": {},
   "source": [
    "This notebook page is based on many resources. Here is the list of the main of them:\n",
    "\n",
    "- [opencv toturial playlist by sentdex](https://www.youtube.com/watch?v=Jvf5y21ZqtQ&list=PLQVvvaa0QuDdttJXlLtAJxJetJcqmqlQq&index=2)\n",
    "- [opencv documentation](https://docs.opencv.org/2.4/modules/contrib/doc/facerec/facerec_tutorial.html#face-database)"
   ]
  },
  {
   "cell_type": "markdown",
   "metadata": {},
   "source": [
    "## 1.1 installation"
   ]
  },
  {
   "cell_type": "markdown",
   "metadata": {},
   "source": [
    "### 1.1.1 core openCV library"
   ]
  },
  {
   "cell_type": "markdown",
   "metadata": {},
   "source": [
    "on python, you just need to run ```pip install opencv-python```.\n",
    "The library is available under the following python directory index:\n",
    "https://pypi.python.org/pypi/opencv-python\n"
   ]
  },
  {
   "cell_type": "markdown",
   "metadata": {},
   "source": [
    "### 1.1.2 dependencies"
   ]
  },
  {
   "cell_type": "markdown",
   "metadata": {},
   "source": [
    "The following dependencies might be needed throughout our journey. Better to install them.\n",
    "\n",
    "``` # install Dependencies from the command line:\n",
    "pip install numpy\n",
    "pip install matplotlib\n",
    "```"
   ]
  },
  {
   "cell_type": "markdown",
   "metadata": {},
   "source": [
    "## 1.2 Dataset"
   ]
  },
  {
   "cell_type": "markdown",
   "metadata": {},
   "source": [
    "In case for any need to datasets, I am using a simple dataset for the porpuse of learning and kicking off. The dataset I took is from this website:\n",
    "http://www.cl.cam.ac.uk/research/dtg/attarchive/facedatabase.html\n"
   ]
  },
  {
   "cell_type": "markdown",
   "metadata": {},
   "source": [
    "## 1.3 OpenCV Basics"
   ]
  },
  {
   "cell_type": "code",
   "execution_count": 1,
   "metadata": {},
   "outputs": [],
   "source": [
    "# important imports:\n",
    "import cv2\n",
    "import numpy as np\n",
    "import matplotlib.pyplot as plt\n",
    "\n",
    "## make sure to install dependencies above."
   ]
  },
  {
   "cell_type": "markdown",
   "metadata": {},
   "source": [
    "### 1.3.1 Image reading"
   ]
  },
  {
   "cell_type": "markdown",
   "metadata": {},
   "source": [
    "#### 1.3.1.1 from a file"
   ]
  },
  {
   "cell_type": "markdown",
   "metadata": {},
   "source": [
    "you can read an image from a file as follows:"
   ]
  },
  {
   "cell_type": "code",
   "execution_count": 2,
   "metadata": {},
   "outputs": [],
   "source": [
    "img = cv2.imread('dataset/att_faces/orl_faces/s1/1.pgm')"
   ]
  },
  {
   "cell_type": "markdown",
   "metadata": {},
   "source": [
    "The above line will read an image from a file.\n",
    "\n",
    "```imread``` allows to read an image and applying some filters to it. You can have ```cv2.IMREAD_GRAYSCALE```, ```cv2.IMREAD_COLOR``` or ```cv2.IMREAD_UNCHANGED``` filters fed as parameters to cv.imread() method. Moreover, you can use constants instead of this big words as follows:\n",
    "\n",
    "IMREAD_GRAYSCALE: 0\n",
    "\n",
    "IMREAD_COLOR: 1\n",
    "\n",
    "IMREAD_UNCHANGED: -1\n",
    "\n",
    "If there is no parameter specified, the image will be retrived full colored but the alpha channel is removed. [ up to now, I know nothing about this alpha channel :) ].\n",
    "\n",
    "The dataset I am using is already in grayscale. Thus, there is no need to filter it."
   ]
  },
  {
   "cell_type": "markdown",
   "metadata": {},
   "source": [
    "#### 1.3.1.2 from a camera video stream"
   ]
  },
  {
   "cell_type": "markdown",
   "metadata": {},
   "source": [
    "you can also capture an image from the laptop camera. The following code can do that job for you:"
   ]
  },
  {
   "cell_type": "code",
   "execution_count": 7,
   "metadata": {},
   "outputs": [],
   "source": [
    "video_cam = cv2.VideoCapture(0) \n",
    "# The number 0 indicates the camera used in the case of multiple connected cameras to the machine.\n",
    "\n",
    "while True:\n",
    "    # this while loop will start a video using the spcified camera\n",
    "    \n",
    "    ret, frame = video_cam.read()\n",
    "    # ret is a boolean variable \n",
    "    # frame is the returned image\n",
    "    \n",
    "    cv2.imshow('camera video', frame)\n",
    "    # showing the image\n",
    "    \n",
    "    # SOME LIVE IMAGE MANIPULATIONS:\n",
    "    \n",
    "    #gray = cv2.cvtColor(frame, cv2.COLOR_BGR2GRAY)\n",
    "    # this command will change the frame to gray frame\n",
    "    # notice that the openCV reads RGB reversed as BGR!!\n",
    "    \n",
    "    # frame = cv2.flip(frame,0)\n",
    "    # This command is another manipulation command to flip an image around an axis!!\n",
    "    \n",
    "    if cv2.waitKey(1) & 0xFF == ord('q'):\n",
    "        # breaking the infinite loop if the q char is recieved\n",
    "        # 0xFF is the key\n",
    "        \n",
    "        camera_img = frame\n",
    "        # save the frame\n",
    "        \n",
    "        break\n",
    "\n",
    "video_cam.release()\n",
    "# release the resource\n",
    "\n",
    "cv2.destroyAllWindows()\n",
    "# destroy all images"
   ]
  },
  {
   "cell_type": "markdown",
   "metadata": {},
   "source": [
    "### 1.3.2 Image saving"
   ]
  },
  {
   "cell_type": "markdown",
   "metadata": {},
   "source": [
    "If the image is taken from a video stream. It may need to be saved after manipulation. To save an image, take this line:"
   ]
  },
  {
   "cell_type": "code",
   "execution_count": 8,
   "metadata": {},
   "outputs": [
    {
     "data": {
      "text/plain": [
       "True"
      ]
     },
     "execution_count": 8,
     "metadata": {},
     "output_type": "execute_result"
    }
   ],
   "source": [
    "cv2.imwrite('saved_imgs/camera_img.jpg', camera_img)\n",
    "# This function returns a boolean indicating whether the operation is completed successfully.\n",
    "# be sure that the folder saved_img does exist!! otherwise,\n",
    "# creation of this folder cannot performed due to permissions I Guess!!\n",
    "\n",
    "# openCV allows you to save the whole video. To do that, follow the instructions in this toturial from opencv documentation:\n",
    "#https://docs.opencv.org/3.0-beta/doc/py_tutorials/py_gui/py_video_display/py_video_display.html\n"
   ]
  },
  {
   "cell_type": "markdown",
   "metadata": {},
   "source": [
    "### 1.3.2 Image viewing"
   ]
  },
  {
   "cell_type": "markdown",
   "metadata": {},
   "source": [
    "Technically, there are two main ways to view an image. One way is to use the imshow module provided by the cv2 library or using matplotlib library."
   ]
  },
  {
   "cell_type": "markdown",
   "metadata": {},
   "source": [
    "#### 1.3.2.1 using imshow"
   ]
  },
  {
   "cell_type": "markdown",
   "metadata": {},
   "source": [
    "The command ```imshow(title, img)``` is used to show the image on a separate window.The first parameter is the title of the viewing window and the second parameter is the variable holding the image.\n",
    "\n",
    "The command ```cv2.waitKey(0)``` listens for any key to be pressed. If that happens, The next line ```cv2.destroyAllWindows()``` will be called to close all opening windows. Later, we may need this listener for any manipulations."
   ]
  },
  {
   "cell_type": "code",
   "execution_count": 7,
   "metadata": {},
   "outputs": [],
   "source": [
    "cv2.imshow('camera img', camera_img)\n",
    "cv2.waitKey(0)\n",
    "# The argument is the time in milliseconds.\n",
    "# The function waits for specified milliseconds for any keyboard event.\n",
    "# If you press any key in that time, the program continues.\n",
    "\n",
    "cv2.destroyAllWindows()"
   ]
  },
  {
   "cell_type": "markdown",
   "metadata": {},
   "source": [
    "#### 1.3.2.2 using matplotlib"
   ]
  },
  {
   "cell_type": "markdown",
   "metadata": {},
   "source": [
    "As the name suggests, matplotlib is a python library for plotting. It is also well known and applied in many other fields such as machine learning and statistics manipulations to visualize data.\n",
    "\n",
    "Here, I am using it to view images \"look to the following code\". \n",
    "\n",
    "one thing to notice is that the image is viewed along with the x-y cordinates."
   ]
  },
  {
   "cell_type": "code",
   "execution_count": 8,
   "metadata": {},
   "outputs": [
    {
     "data": {
      "text/plain": [
       "<matplotlib.image.AxesImage at 0x7f539515c748>"
      ]
     },
     "execution_count": 8,
     "metadata": {},
     "output_type": "execute_result"
    },
    {
     "data": {
      "image/png": "[encoded data removed]",
      "text/plain": [
       "<matplotlib.figure.Figure at 0x7f53951f6278>"
      ]
     },
     "metadata": {},
     "output_type": "display_data"
    }
   ],
   "source": [
    "plt.imshow(img)"
   ]
  },
  {
   "cell_type": "markdown",
   "metadata": {},
   "source": [
    "Interestingly, you can use this library to plot on images as well! look at the following code:"
   ]
  },
  {
   "cell_type": "code",
   "execution_count": 17,
   "metadata": {},
   "outputs": [
    {
     "data": {
      "text/plain": [
       "<matplotlib.image.AxesImage at 0x7f535dde5a90>"
      ]
     },
     "execution_count": 17,
     "metadata": {},
     "output_type": "execute_result"
    },
    {
     "data": {
      "image/png": "[encoded data removed]",
      "text/plain": [
       "<matplotlib.figure.Figure at 0x7f535deca518>"
      ]
     },
     "metadata": {},
     "output_type": "display_data"
    }
   ],
   "source": [
    "plt.plot([45, 46], [10, 75], 'c')\n",
    "plt.imshow(img)"
   ]
  },
  {
   "cell_type": "markdown",
   "metadata": {},
   "source": [
    "### Image manipulations"
   ]
  },
  {
   "cell_type": "code",
   "execution_count": null,
   "metadata": {},
   "outputs": [],
   "source": []
  }
 ],
 "metadata": {
  "kernelspec": {
   "display_name": "Python 3",
   "language": "python",
   "name": "python3"
  },
  "language_info": {
   "codemirror_mode": {
    "name": "ipython",
    "version": 2
   },
   "file_extension": ".py",
   "mimetype": "text/x-python",
   "name": "python",
   "nbconvert_exporter": "python",
   "pygments_lexer": "ipython2",
   "version": "2.7.10"
  }
 },
 "nbformat": 4,
 "nbformat_minor": 2
}
