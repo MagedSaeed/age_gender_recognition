{
 "cells": [
  {
   "cell_type": "markdown",
   "metadata": {},
   "source": [
    "# First Trial with PyVision"
   ]
  },
  {
   "cell_type": "markdown",
   "metadata": {},
   "source": [
    "Credit: The original code for each section below is from the source below, however some modification is done to fit our purposes."
   ]
  },
  {
   "cell_type": "markdown",
   "metadata": {},
   "source": [
    "Source: https://www.cs.colostate.edu/~cs510/yr2012/Progress/ProgressMedia/CSU_pyvision_Tutorial_CS510.pdf"
   ]
  },
  {
   "cell_type": "markdown",
   "metadata": {},
   "source": [
    "## Face Detection"
   ]
  },
  {
   "cell_type": "code",
   "execution_count": 16,
   "metadata": {},
   "outputs": [],
   "source": [
    "import pyvision as pv\n",
    "import pyvision.face.CascadeDetector as cd\n",
    "import cv2\n",
    "face_detector = cd.CascadeDetector()\n",
    "im = pv.Image(\"sl4.jpg\",bw_annotate=True)\n",
    "#it returns faces collection since theree might be more than one face in the image.\n",
    "faces = face_detector(im)\n",
    "\n",
    "for face in faces:\n",
    "    im.annotatePolygon(face.asPolygon(), width=4)\n",
    "\n",
    "im.show(delay=0)\n",
    "\n",
    "'''\n",
    "cam = pv.Webcam()\n",
    "while True:\n",
    "    frame = cam.query()\n",
    "    rects = detector(frame)\n",
    "    for rect in rects:\n",
    "        frame.annotateRect(rect)\n",
    "    frame.show()\n",
    "'''\n",
    "cv2.destroyAllWindows()"
   ]
  },
  {
   "cell_type": "markdown",
   "metadata": {},
   "source": [
    "## Eye Detection"
   ]
  },
  {
   "cell_type": "code",
   "execution_count": 14,
   "metadata": {},
   "outputs": [],
   "source": [
    "import pyvision as pv\n",
    "import pyvision.face.CascadeDetector as cd\n",
    "import pyvision.face.FilterEyeLocator as ed\n",
    "import cv2\n",
    "face_detect = cd.CascadeDetector()\n",
    "eye_detect = ed.FilterEyeLocator()\n",
    "im = pv.Image(\"sl3.jpg\",bw_annotate=True)\n",
    "faces = face_detect(im)\n",
    "eyes = eye_detect(im,faces)\n",
    "for face,eye1,eye2 in eyes:\n",
    "    im.annotatePolygon(face.asPolygon(), width=4)\n",
    "    im.annotatePoints([eye1,eye2])\n",
    "\n",
    "im.show(delay=0)\n",
    "cv2.destroyAllWindows()"
   ]
  },
  {
   "cell_type": "code",
   "execution_count": null,
   "metadata": {},
   "outputs": [],
   "source": []
  }
 ],
 "metadata": {
  "kernelspec": {
   "display_name": "Python 2",
   "language": "python",
   "name": "python2"
  },
  "language_info": {
   "codemirror_mode": {
    "name": "ipython",
    "version": 2
   },
   "file_extension": ".py",
   "mimetype": "text/x-python",
   "name": "python",
   "nbconvert_exporter": "python",
   "pygments_lexer": "ipython2",
   "version": "2.7.10"
  }
 },
 "nbformat": 4,
 "nbformat_minor": 2
}
